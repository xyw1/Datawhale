{
 "cells": [
  {
   "cell_type": "raw",
   "metadata": {},
   "source": [
    "CNN搭建与训练"
   ]
  },
  {
   "cell_type": "code",
   "execution_count": 1,
   "metadata": {},
   "outputs": [],
   "source": [
    "#基本库\n",
    "import pandas as pd\n",
    "import numpy as np\n",
    "pd.plotting.register_matplotlib_converters()\n",
    "import matplotlib.pyplot as plt\n",
    "%matplotlib inline\n",
    "import seaborn as sns\n",
    "from sklearn.model_selection import train_test_split\n",
    "from sklearn.metrics import classification_report\n",
    "from sklearn.model_selection import GridSearchCV\n",
    "from sklearn.preprocessing import MinMaxScaler\n",
    "\n",
    "#深度学习框架\n",
    "from tensorflow.keras.models import Sequential\n",
    "from tensorflow.keras.layers import Conv2D, Flatten, Dense, MaxPool2D, Dropout\n",
    "from tensorflow.keras.utils import to_categorical \n",
    "from sklearn.ensemble import RandomForestClassifier\n",
    "from sklearn.svm import SVC\n",
    "import tensorflow as tf\n",
    "import tensorflow.keras\n",
    "\n",
    "#音频处理库\n",
    "import os\n",
    "import librosa\n",
    "import librosa.display\n",
    "import glob"
   ]
  },
  {
   "cell_type": "markdown",
   "metadata": {},
   "source": [
    "# 特征提取及数据集准备"
   ]
  },
  {
   "cell_type": "code",
   "execution_count": 3,
   "metadata": {},
   "outputs": [],
   "source": [
    "feature = []\n",
    "label = []\n",
    "# 建立类别标签，不同类别对应不同的数字。\n",
    "label_dict = {'aloe': 0, 'burger': 1, 'cabbage': 2,'candied_fruits':3, 'carrots': 4, 'chips':5,\n",
    "                  'chocolate': 6, 'drinks': 7, 'fries': 8, 'grapes': 9, 'gummies': 10, 'ice-cream':11,\n",
    "                  'jelly': 12, 'noodles': 13, 'pickles': 14, 'pizza': 15, 'ribs': 16, 'salmon':17,\n",
    "                  'soup': 18, 'wings': 19}\n",
    "label_dict_inv = {v:k for k,v in label_dict.items()}"
   ]
  },
  {
   "cell_type": "code",
   "execution_count": 4,
   "metadata": {},
   "outputs": [],
   "source": [
    "# 建立提取音频特征的函数\n",
    "from tqdm import tqdm\n",
    "def extract_features(parent_dir, sub_dirs, max_file=10, file_ext=\"*.wav\"):\n",
    "    c = 0\n",
    "    label, feature = [], []\n",
    "    for sub_dir in sub_dirs:\n",
    "        for fn in tqdm(glob.glob(os.path.join(parent_dir, sub_dir, file_ext))[:max_file]): # 遍历数据集的所有文件\n",
    "            \n",
    "           # segment_log_specgrams, segment_labels = [], []\n",
    "            #sound_clip,sr = librosa.load(fn)\n",
    "            #print(fn)\n",
    "            label_name = fn.split('/')[-2]\n",
    "            label.extend([label_dict[label_name]])\n",
    "            X, sample_rate = librosa.load(fn,res_type='kaiser_fast')\n",
    "            mels = np.mean(librosa.feature.melspectrogram(y=X,sr=sample_rate).T,axis=0) # 计算梅尔频谱(mel spectrogram),并把它作为特征\n",
    "            feature.extend([mels])\n",
    "            \n",
    "    return [feature, label]"
   ]
  },
  {
   "cell_type": "code",
   "execution_count": 6,
   "metadata": {},
   "outputs": [
    {
     "name": "stderr",
     "output_type": "stream",
     "text": [
      "100%|██████████| 45/45 [00:02<00:00, 16.93it/s]\n",
      "100%|██████████| 64/64 [00:02<00:00, 22.96it/s]\n",
      "100%|██████████| 48/48 [00:04<00:00,  9.97it/s]\n",
      "100%|██████████| 74/74 [00:07<00:00, 10.51it/s]\n",
      "100%|██████████| 49/49 [00:03<00:00, 13.04it/s]\n",
      "100%|██████████| 57/57 [00:04<00:00, 13.15it/s]\n",
      "100%|██████████| 27/27 [00:01<00:00, 14.29it/s]\n",
      "100%|██████████| 27/27 [00:01<00:00, 15.25it/s]\n",
      "100%|██████████| 57/57 [00:03<00:00, 16.19it/s]\n",
      "100%|██████████| 61/61 [00:04<00:00, 14.20it/s]\n",
      "100%|██████████| 65/65 [00:05<00:00, 11.88it/s]\n",
      "100%|██████████| 69/69 [00:05<00:00, 11.83it/s]\n",
      "100%|██████████| 43/43 [00:03<00:00, 13.11it/s]\n",
      "100%|██████████| 33/33 [00:02<00:00, 16.22it/s]\n",
      "100%|██████████| 75/75 [00:06<00:00, 11.51it/s]\n",
      "100%|██████████| 55/55 [00:04<00:00, 11.12it/s]\n",
      "100%|██████████| 47/47 [00:03<00:00, 12.30it/s]\n",
      "100%|██████████| 37/37 [00:03<00:00, 10.45it/s]\n",
      "100%|██████████| 32/32 [00:01<00:00, 21.07it/s]\n",
      "100%|██████████| 35/35 [00:02<00:00, 12.12it/s]\n"
     ]
    }
   ],
   "source": [
    "\n",
    "# 自己更改目录\n",
    "parent_dir = '../data/train_sample/'\n",
    "save_dir = \"../output/\"\n",
    "folds = sub_dirs = np.array(['aloe','burger','cabbage','candied_fruits',\n",
    "                             'carrots','chips','chocolate','drinks','fries',\n",
    "                            'grapes','gummies','ice-cream','jelly','noodles','pickles',\n",
    "                            'pizza','ribs','salmon','soup','wings'])\n",
    "\n",
    "# 获取特征feature以及类别的label\n",
    "temp = extract_features(parent_dir,sub_dirs,max_file=100)"
   ]
  },
  {
   "cell_type": "code",
   "execution_count": 11,
   "metadata": {},
   "outputs": [],
   "source": [
    "temp = np.array(temp)\n",
    "data = temp.transpose()"
   ]
  },
  {
   "cell_type": "code",
   "execution_count": 12,
   "metadata": {},
   "outputs": [
    {
     "name": "stdout",
     "output_type": "stream",
     "text": [
      "X的特征尺寸是： (1000, 128)\n",
      "Y的特征尺寸是： (1000,)\n"
     ]
    }
   ],
   "source": [
    "# 获取特征\n",
    "X = np.vstack(data[:, 0])\n",
    "\n",
    "# 获取标签\n",
    "Y = np.array(data[:, 1])\n",
    "print('X的特征尺寸是：',X.shape)\n",
    "print('Y的特征尺寸是：',Y.shape)"
   ]
  },
  {
   "cell_type": "code",
   "execution_count": 13,
   "metadata": {},
   "outputs": [],
   "source": [
    "\n",
    "# 在Keras库中：to_categorical就是将类别向量转换为二进制（只有0和1）的矩阵类型表示\n",
    "Y = to_categorical(Y)"
   ]
  },
  {
   "cell_type": "code",
   "execution_count": 14,
   "metadata": {},
   "outputs": [
    {
     "name": "stdout",
     "output_type": "stream",
     "text": [
      "(1000, 128)\n",
      "(1000, 20)\n"
     ]
    }
   ],
   "source": [
    "'''最终数据'''\n",
    "print(X.shape)\n",
    "print(Y.shape)"
   ]
  },
  {
   "cell_type": "code",
   "execution_count": 15,
   "metadata": {},
   "outputs": [
    {
     "name": "stdout",
     "output_type": "stream",
     "text": [
      "训练集的大小 750\n",
      "测试集的大小 250\n"
     ]
    }
   ],
   "source": [
    "X_train, X_test, Y_train, Y_test = train_test_split(X, Y, random_state = 1, stratify=Y)\n",
    "print('训练集的大小',len(X_train))\n",
    "print('测试集的大小',len(X_test))"
   ]
  },
  {
   "cell_type": "code",
   "execution_count": 16,
   "metadata": {},
   "outputs": [],
   "source": [
    "X_train = X_train.reshape(-1, 16, 8, 1)\n",
    "X_test = X_test.reshape(-1, 16, 8, 1)"
   ]
  },
  {
   "cell_type": "markdown",
   "metadata": {},
   "source": [
    "# 建立模型"
   ]
  },
  {
   "cell_type": "markdown",
   "metadata": {},
   "source": [
    "## 深度学习框架"
   ]
  },
  {
   "cell_type": "raw",
   "metadata": {},
   "source": [
    "Keras 是一个用 Python 编写的高级神经网络 API，它能够以 TensorFlow, CNTK, 或者 Theano 作为后端运行。现在Keras已经和TensorFlow合并，可以通过TensorFlow来调用。"
   ]
  },
  {
   "cell_type": "markdown",
   "metadata": {},
   "source": [
    "### 网络结构搭建"
   ]
  },
  {
   "cell_type": "raw",
   "metadata": {},
   "source": [
    "\n",
    "Keras 的核心数据结构是 model，一种组织网络层的方式。最简单的模型是 Sequential 顺序模型，它由多个网络层线性堆叠。对于更复杂的结构，你应该使用 Keras 函数式 API，它允许构建任意的神经网络图。\n",
    "\n",
    "Sequential模型可以直接通过如下方式搭建：\n",
    "\n",
    "from keras.models import Sequential\n",
    "\n",
    "model = Sequential()"
   ]
  },
  {
   "cell_type": "code",
   "execution_count": 8,
   "metadata": {},
   "outputs": [],
   "source": [
    "\n",
    "model = Sequential()\n",
    "\n",
    "# 输入的大小\n",
    "input_dim = (16, 8, 1)\n",
    "\n",
    "model.add(Conv2D(64, (3, 3), padding = \"same\", activation = \"tanh\", input_shape = input_dim))# 卷积层\n",
    "model.add(MaxPool2D(pool_size=(2, 2)))# 最大池化\n",
    "model.add(Conv2D(128, (3, 3), padding = \"same\", activation = \"tanh\")) #卷积层\n",
    "model.add(MaxPool2D(pool_size=(2, 2))) # 最大池化层\n",
    "model.add(Dropout(0.1))\n",
    "model.add(Flatten()) # 展开\n",
    "model.add(Dense(1024, activation = \"tanh\"))\n",
    "model.add(Dense(20, activation = \"softmax\")) # 输出层：20个units输出20个类的概率"
   ]
  },
  {
   "cell_type": "raw",
   "metadata": {},
   "source": [
    "如果需要，你还可以进一步地配置你的优化器.complies())。Keras 的核心原则是使事情变得相当简单，同时又允许用户在需要的时候能够进行完全的控制（终极的控制是源代码的易扩展性）。"
   ]
  },
  {
   "cell_type": "code",
   "execution_count": 9,
   "metadata": {},
   "outputs": [],
   "source": [
    "\n",
    "# 编译模型，设置损失函数，优化方法以及评价标准\n",
    "model.compile(optimizer = 'adam', loss = 'categorical_crossentropy', metrics = ['accuracy'])"
   ]
  },
  {
   "cell_type": "markdown",
   "metadata": {},
   "source": [
    "# CNN的模型训练与测试"
   ]
  },
  {
   "cell_type": "markdown",
   "metadata": {},
   "source": [
    "## 训练\n"
   ]
  },
  {
   "cell_type": "code",
   "execution_count": 17,
   "metadata": {},
   "outputs": [
    {
     "name": "stdout",
     "output_type": "stream",
     "text": [
      "Epoch 1/90\n",
      "15/15 [==============================] - 0s 32ms/step - loss: 2.8712 - accuracy: 0.1187 - val_loss: 2.7547 - val_accuracy: 0.1640\n",
      "Epoch 2/90\n",
      "15/15 [==============================] - 0s 23ms/step - loss: 2.5620 - accuracy: 0.2160 - val_loss: 2.5820 - val_accuracy: 0.2280\n",
      "Epoch 3/90\n",
      "15/15 [==============================] - 0s 21ms/step - loss: 2.3442 - accuracy: 0.2800 - val_loss: 2.4708 - val_accuracy: 0.2480\n",
      "Epoch 4/90\n",
      "15/15 [==============================] - 0s 22ms/step - loss: 2.1591 - accuracy: 0.3507 - val_loss: 2.4114 - val_accuracy: 0.2600\n",
      "Epoch 5/90\n",
      "15/15 [==============================] - 0s 21ms/step - loss: 2.0395 - accuracy: 0.3813 - val_loss: 2.3651 - val_accuracy: 0.2760\n",
      "Epoch 6/90\n",
      "15/15 [==============================] - 0s 21ms/step - loss: 1.9324 - accuracy: 0.3987 - val_loss: 2.4663 - val_accuracy: 0.2480\n",
      "Epoch 7/90\n",
      "15/15 [==============================] - 0s 22ms/step - loss: 1.7943 - accuracy: 0.4493 - val_loss: 2.3797 - val_accuracy: 0.3120\n",
      "Epoch 8/90\n",
      "15/15 [==============================] - 0s 21ms/step - loss: 1.6861 - accuracy: 0.4867 - val_loss: 2.3545 - val_accuracy: 0.3000\n",
      "Epoch 9/90\n",
      "15/15 [==============================] - 0s 23ms/step - loss: 1.5562 - accuracy: 0.5480 - val_loss: 2.3233 - val_accuracy: 0.3440\n",
      "Epoch 10/90\n",
      "15/15 [==============================] - 0s 21ms/step - loss: 1.4324 - accuracy: 0.5627 - val_loss: 2.3929 - val_accuracy: 0.3480\n",
      "Epoch 11/90\n",
      "15/15 [==============================] - 0s 23ms/step - loss: 1.3347 - accuracy: 0.5893 - val_loss: 2.4500 - val_accuracy: 0.3240\n",
      "Epoch 12/90\n",
      "15/15 [==============================] - 0s 23ms/step - loss: 1.2625 - accuracy: 0.6227 - val_loss: 2.5350 - val_accuracy: 0.3520\n",
      "Epoch 13/90\n",
      "15/15 [==============================] - 0s 23ms/step - loss: 1.1638 - accuracy: 0.6667 - val_loss: 2.5986 - val_accuracy: 0.3280\n",
      "Epoch 14/90\n",
      "15/15 [==============================] - 0s 24ms/step - loss: 1.0572 - accuracy: 0.7133 - val_loss: 2.5717 - val_accuracy: 0.3200\n",
      "Epoch 15/90\n",
      "15/15 [==============================] - 0s 24ms/step - loss: 0.9885 - accuracy: 0.6987 - val_loss: 2.6840 - val_accuracy: 0.3240\n",
      "Epoch 16/90\n",
      "15/15 [==============================] - 0s 24ms/step - loss: 0.9374 - accuracy: 0.7320 - val_loss: 2.7250 - val_accuracy: 0.3400\n",
      "Epoch 17/90\n",
      "15/15 [==============================] - 0s 21ms/step - loss: 0.8707 - accuracy: 0.7533 - val_loss: 2.9654 - val_accuracy: 0.3720\n",
      "Epoch 18/90\n",
      "15/15 [==============================] - 0s 23ms/step - loss: 0.8059 - accuracy: 0.7773 - val_loss: 2.8921 - val_accuracy: 0.3800\n",
      "Epoch 19/90\n",
      "15/15 [==============================] - 0s 24ms/step - loss: 0.7367 - accuracy: 0.7893 - val_loss: 3.0196 - val_accuracy: 0.3480\n",
      "Epoch 20/90\n",
      "15/15 [==============================] - 0s 21ms/step - loss: 0.6658 - accuracy: 0.8160 - val_loss: 2.9855 - val_accuracy: 0.4160\n",
      "Epoch 21/90\n",
      "15/15 [==============================] - 0s 24ms/step - loss: 0.6151 - accuracy: 0.8333 - val_loss: 3.1199 - val_accuracy: 0.3480\n",
      "Epoch 22/90\n",
      "15/15 [==============================] - 0s 22ms/step - loss: 0.5612 - accuracy: 0.8480 - val_loss: 3.2581 - val_accuracy: 0.3600\n",
      "Epoch 23/90\n",
      "15/15 [==============================] - 0s 22ms/step - loss: 0.4942 - accuracy: 0.8760 - val_loss: 3.1815 - val_accuracy: 0.3840\n",
      "Epoch 24/90\n",
      "15/15 [==============================] - 0s 21ms/step - loss: 0.4863 - accuracy: 0.8693 - val_loss: 3.2973 - val_accuracy: 0.4000\n",
      "Epoch 25/90\n",
      "15/15 [==============================] - 0s 23ms/step - loss: 0.4652 - accuracy: 0.8827 - val_loss: 3.4873 - val_accuracy: 0.3880\n",
      "Epoch 26/90\n",
      "15/15 [==============================] - 0s 23ms/step - loss: 0.4391 - accuracy: 0.8880 - val_loss: 3.4828 - val_accuracy: 0.4000\n",
      "Epoch 27/90\n",
      "15/15 [==============================] - 0s 22ms/step - loss: 0.4367 - accuracy: 0.8827 - val_loss: 3.4735 - val_accuracy: 0.3800\n",
      "Epoch 28/90\n",
      "15/15 [==============================] - 0s 21ms/step - loss: 0.3703 - accuracy: 0.9080 - val_loss: 3.5639 - val_accuracy: 0.3800\n",
      "Epoch 29/90\n",
      "15/15 [==============================] - 0s 26ms/step - loss: 0.3633 - accuracy: 0.9000 - val_loss: 3.7601 - val_accuracy: 0.3800\n",
      "Epoch 30/90\n",
      "15/15 [==============================] - 0s 22ms/step - loss: 0.3505 - accuracy: 0.9093 - val_loss: 3.7925 - val_accuracy: 0.3800\n",
      "Epoch 31/90\n",
      "15/15 [==============================] - 0s 22ms/step - loss: 0.3516 - accuracy: 0.8973 - val_loss: 3.8842 - val_accuracy: 0.3920\n",
      "Epoch 32/90\n",
      "15/15 [==============================] - 0s 23ms/step - loss: 0.3424 - accuracy: 0.9053 - val_loss: 3.8261 - val_accuracy: 0.3640\n",
      "Epoch 33/90\n",
      "15/15 [==============================] - 0s 23ms/step - loss: 0.2954 - accuracy: 0.9027 - val_loss: 3.7172 - val_accuracy: 0.4040\n",
      "Epoch 34/90\n",
      "15/15 [==============================] - 0s 21ms/step - loss: 0.2544 - accuracy: 0.9360 - val_loss: 4.0409 - val_accuracy: 0.3720\n",
      "Epoch 35/90\n",
      "15/15 [==============================] - 0s 24ms/step - loss: 0.2411 - accuracy: 0.9373 - val_loss: 4.0268 - val_accuracy: 0.4040\n",
      "Epoch 36/90\n",
      "15/15 [==============================] - 0s 22ms/step - loss: 0.2325 - accuracy: 0.9427 - val_loss: 4.0936 - val_accuracy: 0.4080\n",
      "Epoch 37/90\n",
      "15/15 [==============================] - 0s 21ms/step - loss: 0.2127 - accuracy: 0.9547 - val_loss: 4.2823 - val_accuracy: 0.4160\n",
      "Epoch 38/90\n",
      "15/15 [==============================] - 0s 24ms/step - loss: 0.1957 - accuracy: 0.9587 - val_loss: 4.0721 - val_accuracy: 0.3960\n",
      "Epoch 39/90\n",
      "15/15 [==============================] - 0s 22ms/step - loss: 0.2192 - accuracy: 0.9440 - val_loss: 4.2294 - val_accuracy: 0.3960\n",
      "Epoch 40/90\n",
      "15/15 [==============================] - 0s 25ms/step - loss: 0.2034 - accuracy: 0.9533 - val_loss: 4.3075 - val_accuracy: 0.3880\n",
      "Epoch 41/90\n",
      "15/15 [==============================] - 0s 21ms/step - loss: 0.1679 - accuracy: 0.9587 - val_loss: 4.1632 - val_accuracy: 0.4080\n",
      "Epoch 42/90\n",
      "15/15 [==============================] - 0s 23ms/step - loss: 0.1667 - accuracy: 0.9493 - val_loss: 4.2274 - val_accuracy: 0.4120\n",
      "Epoch 43/90\n",
      "15/15 [==============================] - 0s 25ms/step - loss: 0.1604 - accuracy: 0.9613 - val_loss: 4.3358 - val_accuracy: 0.4000\n",
      "Epoch 44/90\n",
      "15/15 [==============================] - 0s 22ms/step - loss: 0.1401 - accuracy: 0.9680 - val_loss: 4.3176 - val_accuracy: 0.3960\n",
      "Epoch 45/90\n",
      "15/15 [==============================] - 0s 22ms/step - loss: 0.1651 - accuracy: 0.9560 - val_loss: 4.5321 - val_accuracy: 0.3920\n",
      "Epoch 46/90\n",
      "15/15 [==============================] - 0s 23ms/step - loss: 0.1385 - accuracy: 0.9707 - val_loss: 4.5938 - val_accuracy: 0.3840\n",
      "Epoch 47/90\n",
      "15/15 [==============================] - 0s 22ms/step - loss: 0.1209 - accuracy: 0.9693 - val_loss: 4.6129 - val_accuracy: 0.4160\n",
      "Epoch 48/90\n",
      "15/15 [==============================] - 0s 22ms/step - loss: 0.1376 - accuracy: 0.9653 - val_loss: 4.4984 - val_accuracy: 0.4280\n",
      "Epoch 49/90\n",
      "15/15 [==============================] - 0s 22ms/step - loss: 0.1023 - accuracy: 0.9773 - val_loss: 4.6095 - val_accuracy: 0.4440\n",
      "Epoch 50/90\n",
      "15/15 [==============================] - 0s 23ms/step - loss: 0.1271 - accuracy: 0.9693 - val_loss: 4.8887 - val_accuracy: 0.4040\n",
      "Epoch 51/90\n",
      "15/15 [==============================] - 0s 24ms/step - loss: 0.1198 - accuracy: 0.9707 - val_loss: 4.5456 - val_accuracy: 0.4080\n",
      "Epoch 52/90\n",
      "15/15 [==============================] - 0s 21ms/step - loss: 0.1034 - accuracy: 0.9733 - val_loss: 4.6691 - val_accuracy: 0.4080\n",
      "Epoch 53/90\n",
      "15/15 [==============================] - 0s 28ms/step - loss: 0.0980 - accuracy: 0.9733 - val_loss: 4.6001 - val_accuracy: 0.4200\n",
      "Epoch 54/90\n",
      "15/15 [==============================] - 0s 24ms/step - loss: 0.0979 - accuracy: 0.9747 - val_loss: 4.6258 - val_accuracy: 0.3880\n",
      "Epoch 55/90\n",
      "15/15 [==============================] - 0s 21ms/step - loss: 0.0840 - accuracy: 0.9827 - val_loss: 4.8504 - val_accuracy: 0.4200\n",
      "Epoch 56/90\n",
      "15/15 [==============================] - 0s 22ms/step - loss: 0.1018 - accuracy: 0.9760 - val_loss: 4.8524 - val_accuracy: 0.4040\n",
      "Epoch 57/90\n",
      "15/15 [==============================] - 0s 27ms/step - loss: 0.0922 - accuracy: 0.9747 - val_loss: 4.9542 - val_accuracy: 0.4200\n",
      "Epoch 58/90\n",
      "15/15 [==============================] - 0s 21ms/step - loss: 0.0904 - accuracy: 0.9733 - val_loss: 4.8893 - val_accuracy: 0.4000\n",
      "Epoch 59/90\n",
      "15/15 [==============================] - 0s 22ms/step - loss: 0.0816 - accuracy: 0.9800 - val_loss: 4.8794 - val_accuracy: 0.4080\n",
      "Epoch 60/90\n",
      "15/15 [==============================] - 0s 22ms/step - loss: 0.0645 - accuracy: 0.9827 - val_loss: 4.9689 - val_accuracy: 0.4000\n",
      "Epoch 61/90\n",
      "15/15 [==============================] - 0s 23ms/step - loss: 0.0995 - accuracy: 0.9867 - val_loss: 5.1285 - val_accuracy: 0.4080\n",
      "Epoch 62/90\n",
      "15/15 [==============================] - 0s 21ms/step - loss: 0.0980 - accuracy: 0.9773 - val_loss: 5.1910 - val_accuracy: 0.3960\n",
      "Epoch 63/90\n",
      "15/15 [==============================] - 0s 22ms/step - loss: 0.0800 - accuracy: 0.9787 - val_loss: 5.3637 - val_accuracy: 0.4160\n",
      "Epoch 64/90\n",
      "15/15 [==============================] - 0s 23ms/step - loss: 0.1349 - accuracy: 0.9680 - val_loss: 5.5457 - val_accuracy: 0.3680\n",
      "Epoch 65/90\n",
      "15/15 [==============================] - 0s 22ms/step - loss: 0.1639 - accuracy: 0.9533 - val_loss: 5.6497 - val_accuracy: 0.3640\n",
      "Epoch 66/90\n",
      "15/15 [==============================] - 0s 21ms/step - loss: 0.1743 - accuracy: 0.9493 - val_loss: 5.4896 - val_accuracy: 0.4040\n",
      "Epoch 67/90\n",
      "15/15 [==============================] - 0s 25ms/step - loss: 0.1368 - accuracy: 0.9520 - val_loss: 5.4117 - val_accuracy: 0.4080\n",
      "Epoch 68/90\n",
      "15/15 [==============================] - 0s 25ms/step - loss: 0.1360 - accuracy: 0.9560 - val_loss: 5.9725 - val_accuracy: 0.3600\n",
      "Epoch 69/90\n",
      "15/15 [==============================] - 0s 23ms/step - loss: 0.1961 - accuracy: 0.9440 - val_loss: 5.9648 - val_accuracy: 0.3680\n",
      "Epoch 70/90\n",
      "15/15 [==============================] - 0s 30ms/step - loss: 0.2364 - accuracy: 0.9453 - val_loss: 5.9778 - val_accuracy: 0.4040\n",
      "Epoch 71/90\n",
      "15/15 [==============================] - 0s 32ms/step - loss: 0.1495 - accuracy: 0.9627 - val_loss: 6.4183 - val_accuracy: 0.3640\n",
      "Epoch 72/90\n",
      "15/15 [==============================] - 0s 27ms/step - loss: 0.0976 - accuracy: 0.9733 - val_loss: 5.8405 - val_accuracy: 0.3840\n",
      "Epoch 73/90\n",
      "15/15 [==============================] - 0s 25ms/step - loss: 0.0595 - accuracy: 0.9840 - val_loss: 5.6807 - val_accuracy: 0.3880\n",
      "Epoch 74/90\n",
      "15/15 [==============================] - 0s 22ms/step - loss: 0.0680 - accuracy: 0.9813 - val_loss: 5.6879 - val_accuracy: 0.4280\n",
      "Epoch 75/90\n",
      "15/15 [==============================] - 0s 22ms/step - loss: 0.0745 - accuracy: 0.9787 - val_loss: 5.8892 - val_accuracy: 0.4080\n",
      "Epoch 76/90\n",
      "15/15 [==============================] - 0s 21ms/step - loss: 0.0738 - accuracy: 0.9773 - val_loss: 5.8576 - val_accuracy: 0.4160\n",
      "Epoch 77/90\n",
      "15/15 [==============================] - 0s 24ms/step - loss: 0.0780 - accuracy: 0.9787 - val_loss: 6.2475 - val_accuracy: 0.3840\n",
      "Epoch 78/90\n",
      "15/15 [==============================] - 0s 21ms/step - loss: 0.0589 - accuracy: 0.9827 - val_loss: 5.7622 - val_accuracy: 0.4080\n",
      "Epoch 79/90\n",
      "15/15 [==============================] - 0s 22ms/step - loss: 0.0424 - accuracy: 0.9920 - val_loss: 5.7912 - val_accuracy: 0.3920\n",
      "Epoch 80/90\n",
      "15/15 [==============================] - 0s 21ms/step - loss: 0.0440 - accuracy: 0.9893 - val_loss: 5.8823 - val_accuracy: 0.4080\n",
      "Epoch 81/90\n",
      "15/15 [==============================] - 0s 22ms/step - loss: 0.0363 - accuracy: 0.9920 - val_loss: 5.9631 - val_accuracy: 0.4120\n",
      "Epoch 82/90\n",
      "15/15 [==============================] - 0s 21ms/step - loss: 0.0321 - accuracy: 0.9933 - val_loss: 6.1489 - val_accuracy: 0.3960\n",
      "Epoch 83/90\n",
      "15/15 [==============================] - 0s 23ms/step - loss: 0.0614 - accuracy: 0.9867 - val_loss: 6.6696 - val_accuracy: 0.4360\n",
      "Epoch 84/90\n",
      "15/15 [==============================] - 0s 26ms/step - loss: 0.0889 - accuracy: 0.9813 - val_loss: 6.2334 - val_accuracy: 0.3880\n",
      "Epoch 85/90\n",
      "15/15 [==============================] - 0s 23ms/step - loss: 0.1269 - accuracy: 0.9680 - val_loss: 5.8268 - val_accuracy: 0.4080\n",
      "Epoch 86/90\n",
      "15/15 [==============================] - 0s 23ms/step - loss: 0.0882 - accuracy: 0.9773 - val_loss: 5.9871 - val_accuracy: 0.4400\n",
      "Epoch 87/90\n",
      "15/15 [==============================] - 0s 24ms/step - loss: 0.0672 - accuracy: 0.9867 - val_loss: 5.8373 - val_accuracy: 0.4400\n",
      "Epoch 88/90\n",
      "15/15 [==============================] - 0s 21ms/step - loss: 0.0738 - accuracy: 0.9880 - val_loss: 5.9482 - val_accuracy: 0.4440\n",
      "Epoch 89/90\n",
      "15/15 [==============================] - 0s 23ms/step - loss: 0.0447 - accuracy: 0.9867 - val_loss: 5.8935 - val_accuracy: 0.4000\n",
      "Epoch 90/90\n",
      "15/15 [==============================] - 0s 21ms/step - loss: 0.0402 - accuracy: 0.9907 - val_loss: 6.2132 - val_accuracy: 0.4240\n"
     ]
    },
    {
     "data": {
      "text/plain": [
       "<tensorflow.python.keras.callbacks.History at 0x7f867e405890>"
      ]
     },
     "execution_count": 17,
     "metadata": {},
     "output_type": "execute_result"
    }
   ],
   "source": [
    "# 训练模型\n",
    "model.fit(X_train, Y_train, epochs = 90, batch_size = 50, validation_data = (X_test, Y_test))"
   ]
  },
  {
   "cell_type": "code",
   "execution_count": 18,
   "metadata": {},
   "outputs": [
    {
     "name": "stdout",
     "output_type": "stream",
     "text": [
      "Model: \"sequential_1\"\n",
      "_________________________________________________________________\n",
      "Layer (type)                 Output Shape              Param #   \n",
      "=================================================================\n",
      "conv2d (Conv2D)              (None, 16, 8, 64)         640       \n",
      "_________________________________________________________________\n",
      "max_pooling2d (MaxPooling2D) (None, 8, 4, 64)          0         \n",
      "_________________________________________________________________\n",
      "conv2d_1 (Conv2D)            (None, 8, 4, 128)         73856     \n",
      "_________________________________________________________________\n",
      "max_pooling2d_1 (MaxPooling2 (None, 4, 2, 128)         0         \n",
      "_________________________________________________________________\n",
      "dropout (Dropout)            (None, 4, 2, 128)         0         \n",
      "_________________________________________________________________\n",
      "flatten (Flatten)            (None, 1024)              0         \n",
      "_________________________________________________________________\n",
      "dense (Dense)                (None, 1024)              1049600   \n",
      "_________________________________________________________________\n",
      "dense_1 (Dense)              (None, 20)                20500     \n",
      "=================================================================\n",
      "Total params: 1,144,596\n",
      "Trainable params: 1,144,596\n",
      "Non-trainable params: 0\n",
      "_________________________________________________________________\n"
     ]
    }
   ],
   "source": [
    "model.summary()"
   ]
  },
  {
   "cell_type": "markdown",
   "metadata": {},
   "source": [
    "## 测试集"
   ]
  },
  {
   "cell_type": "code",
   "execution_count": 19,
   "metadata": {},
   "outputs": [],
   "source": [
    "def extract_features(test_dir, file_ext=\"*.wav\"):\n",
    "    feature = []\n",
    "    for fn in tqdm(glob.glob(os.path.join(test_dir, file_ext))[:]): # 遍历数据集的所有文件\n",
    "        X, sample_rate = librosa.load(fn,res_type='kaiser_fast')\n",
    "        mels = np.mean(librosa.feature.melspectrogram(y=X,sr=sample_rate).T,axis=0) # 计算梅尔频谱(mel spectrogram),并把它作为特征\n",
    "        feature.extend([mels])\n",
    "    return feature"
   ]
  },
  {
   "cell_type": "code",
   "execution_count": 20,
   "metadata": {},
   "outputs": [
    {
     "name": "stderr",
     "output_type": "stream",
     "text": [
      "100%|██████████| 2000/2000 [02:34<00:00, 12.98it/s]\n"
     ]
    }
   ],
   "source": [
    "X_test = extract_features('../data/test_a/')"
   ]
  },
  {
   "cell_type": "code",
   "execution_count": 21,
   "metadata": {},
   "outputs": [],
   "source": [
    "X_test = np.vstack(X_test)\n",
    "predictions = model.predict(X_test.reshape(-1, 16, 8, 1))"
   ]
  },
  {
   "cell_type": "code",
   "execution_count": 23,
   "metadata": {},
   "outputs": [],
   "source": [
    "\n",
    "preds = np.argmax(predictions, axis = 1)\n",
    "preds = [label_dict_inv[x] for x in preds]\n",
    "\n",
    "path = glob.glob('../data/test_a/*.wav')\n",
    "result = pd.DataFrame({'name':path, 'label': preds})\n",
    "\n",
    "result['name'] = result['name'].apply(lambda x: x.split('/')[-1])\n",
    "result.to_csv('submit.csv',index=None)"
   ]
  },
  {
   "cell_type": "code",
   "execution_count": 26,
   "metadata": {},
   "outputs": [
    {
     "name": "stdout",
     "output_type": "stream",
     "text": [
      "2000\n"
     ]
    }
   ],
   "source": [
    "!ls ../data/test_a/*.wav | wc -l"
   ]
  },
  {
   "cell_type": "code",
   "execution_count": 27,
   "metadata": {},
   "outputs": [
    {
     "name": "stdout",
     "output_type": "stream",
     "text": [
      "2001 submit.csv\n"
     ]
    }
   ],
   "source": [
    "!wc -l submit.csv"
   ]
  }
 ],
 "metadata": {
  "kernelspec": {
   "display_name": "Python 3",
   "language": "python",
   "name": "python3"
  },
  "language_info": {
   "codemirror_mode": {
    "name": "ipython",
    "version": 3
   },
   "file_extension": ".py",
   "mimetype": "text/x-python",
   "name": "python",
   "nbconvert_exporter": "python",
   "pygments_lexer": "ipython3",
   "version": "3.7.6"
  }
 },
 "nbformat": 4,
 "nbformat_minor": 4
}
