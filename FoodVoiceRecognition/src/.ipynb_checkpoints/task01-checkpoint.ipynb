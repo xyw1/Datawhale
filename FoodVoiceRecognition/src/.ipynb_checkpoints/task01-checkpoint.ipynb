{
 "cells": [
  {
   "cell_type": "markdown",
   "metadata": {},
   "source": [
    "# Prep"
   ]
  },
  {
   "cell_type": "code",
   "execution_count": 2,
   "metadata": {},
   "outputs": [],
   "source": [
    "import pandas as pd\n",
    "import numpy as np\n",
    "\n",
    "from sklearn.model_selection import train_test_split\n",
    "from sklearn.metrics import classification_report\n",
    "from sklearn.model_selection import GridSearchCV\n",
    "\n",
    "from sklearn.preprocessing import MinMaxScaler"
   ]
  },
  {
   "cell_type": "markdown",
   "metadata": {},
   "source": [
    "## load deep learning framework"
   ]
  },
  {
   "cell_type": "code",
   "execution_count": 4,
   "metadata": {},
   "outputs": [],
   "source": [
    "\n",
    "from tensorflow.keras.models import Sequential\n",
    "from tensorflow.keras.layers import Conv2D, Flatten, Dense, MaxPool2D, Dropout\n",
    "from tensorflow.keras.utils import to_categorical \n",
    "\n",
    "from sklearn.ensemble import RandomForestClassifier\n",
    "from sklearn.svm import SVC"
   ]
  },
  {
   "cell_type": "markdown",
   "metadata": {},
   "source": [
    "## install and load audio processing tools"
   ]
  },
  {
   "cell_type": "code",
   "execution_count": 7,
   "metadata": {},
   "outputs": [
    {
     "name": "stdout",
     "output_type": "stream",
     "text": [
      "Looking in indexes: https://pypi.tuna.tsinghua.edu.cn/simple\n",
      "Collecting librosa\n",
      "  Downloading https://pypi.tuna.tsinghua.edu.cn/packages/26/4d/c22d8ca74ca2c13cd4ac430fa353954886104321877b65fa871939e78591/librosa-0.8.0.tar.gz (183 kB)\n",
      "\u001b[K     |████████████████████████████████| 183 kB 186 kB/s eta 0:00:01     |███████████████████████▏        | 133 kB 186 kB/s eta 0:00:01\n",
      "\u001b[?25hCollecting audioread>=2.0.0\n",
      "  Downloading https://pypi.tuna.tsinghua.edu.cn/packages/b3/d1/e324634c5867a668774d6fe233a83228da4ba16521e19059c15df899737d/audioread-2.1.9.tar.gz (377 kB)\n",
      "\u001b[K     |████████████████████████████████| 377 kB 2.0 MB/s eta 0:00:01\n",
      "\u001b[?25hRequirement already satisfied: numpy>=1.15.0 in /home/yunwanx/miniconda3/lib/python3.7/site-packages (from librosa) (1.18.5)\n",
      "Requirement already satisfied: scipy>=1.0.0 in /home/yunwanx/miniconda3/lib/python3.7/site-packages (from librosa) (1.5.2)\n",
      "Requirement already satisfied: scikit-learn!=0.19.0,>=0.14.0 in /home/yunwanx/miniconda3/lib/python3.7/site-packages (from librosa) (0.23.2)\n",
      "Requirement already satisfied: joblib>=0.14 in /home/yunwanx/miniconda3/lib/python3.7/site-packages (from librosa) (0.16.0)\n",
      "Requirement already satisfied: decorator>=3.0.0 in /home/yunwanx/miniconda3/lib/python3.7/site-packages (from librosa) (4.4.2)\n",
      "Collecting resampy>=0.2.2\n",
      "  Downloading https://pypi.tuna.tsinghua.edu.cn/packages/79/75/e22272b9c2185fc8f3af6ce37229708b45e8b855fd4bc38b4d6b040fff65/resampy-0.2.2.tar.gz (323 kB)\n",
      "\u001b[K     |████████████████████████████████| 323 kB 250 kB/s eta 0:00:01\n",
      "\u001b[?25hCollecting numba>=0.43.0\n",
      "  Downloading https://pypi.tuna.tsinghua.edu.cn/packages/bb/73/d9c127eddbe3c105a33379d425b88f9dca249a6eddf39ce886494d49c3f9/numba-0.53.1-cp37-cp37m-manylinux2014_x86_64.whl (3.4 MB)\n",
      "\u001b[K     |████████████████████████████████| 3.4 MB 289 kB/s eta 0:00:01\n",
      "\u001b[?25hCollecting soundfile>=0.9.0\n",
      "  Downloading https://pypi.tuna.tsinghua.edu.cn/packages/eb/f2/3cbbbf3b96fb9fa91582c438b574cff3f45b29c772f94c400e2c99ef5db9/SoundFile-0.10.3.post1-py2.py3-none-any.whl (21 kB)\n",
      "Collecting pooch>=1.0\n",
      "  Downloading https://pypi.tuna.tsinghua.edu.cn/packages/40/b9/9876662636ba451d4406543047c0b45ca5b4e830f931308c8274dad1db43/pooch-1.3.0-py3-none-any.whl (51 kB)\n",
      "\u001b[K     |████████████████████████████████| 51 kB 203 kB/s eta 0:00:01\n",
      "\u001b[?25hRequirement already satisfied: threadpoolctl>=2.0.0 in /home/yunwanx/miniconda3/lib/python3.7/site-packages (from scikit-learn!=0.19.0,>=0.14.0->librosa) (2.1.0)\n",
      "Requirement already satisfied: six>=1.3 in /home/yunwanx/miniconda3/lib/python3.7/site-packages (from resampy>=0.2.2->librosa) (1.14.0)\n",
      "Requirement already satisfied: setuptools in /home/yunwanx/miniconda3/lib/python3.7/site-packages (from numba>=0.43.0->librosa) (45.2.0.post20200210)\n",
      "Collecting llvmlite<0.37,>=0.36.0rc1\n",
      "  Downloading https://pypi.tuna.tsinghua.edu.cn/packages/54/25/2b4015e2b0c3be2efa6870cf2cf2bd969dd0e5f937476fc13c102209df32/llvmlite-0.36.0-cp37-cp37m-manylinux2010_x86_64.whl (25.3 MB)\n",
      "\u001b[K     |████████████████████████████████| 25.3 MB 186 kB/s eta 0:00:011\n",
      "\u001b[?25hRequirement already satisfied: cffi>=1.0 in /home/yunwanx/miniconda3/lib/python3.7/site-packages (from soundfile>=0.9.0->librosa) (1.14.0)\n",
      "Requirement already satisfied: requests in /home/yunwanx/miniconda3/lib/python3.7/site-packages (from pooch>=1.0->librosa) (2.22.0)\n",
      "Collecting appdirs\n",
      "  Downloading https://pypi.tuna.tsinghua.edu.cn/packages/3b/00/2344469e2084fb287c2e0b57b72910309874c3245463acd6cf5e3db69324/appdirs-1.4.4-py2.py3-none-any.whl (9.6 kB)\n",
      "Requirement already satisfied: packaging in /home/yunwanx/miniconda3/lib/python3.7/site-packages (from pooch>=1.0->librosa) (20.4)\n",
      "Requirement already satisfied: pycparser in /home/yunwanx/miniconda3/lib/python3.7/site-packages (from cffi>=1.0->soundfile>=0.9.0->librosa) (2.19)\n",
      "Requirement already satisfied: urllib3!=1.25.0,!=1.25.1,<1.26,>=1.21.1 in /home/yunwanx/miniconda3/lib/python3.7/site-packages (from requests->pooch>=1.0->librosa) (1.25.8)\n",
      "Requirement already satisfied: idna<2.9,>=2.5 in /home/yunwanx/miniconda3/lib/python3.7/site-packages (from requests->pooch>=1.0->librosa) (2.8)\n",
      "Requirement already satisfied: chardet<3.1.0,>=3.0.2 in /home/yunwanx/miniconda3/lib/python3.7/site-packages (from requests->pooch>=1.0->librosa) (3.0.4)\n",
      "Requirement already satisfied: certifi>=2017.4.17 in /home/yunwanx/miniconda3/lib/python3.7/site-packages (from requests->pooch>=1.0->librosa) (2020.12.5)\n",
      "Requirement already satisfied: pyparsing>=2.0.2 in /home/yunwanx/miniconda3/lib/python3.7/site-packages (from packaging->pooch>=1.0->librosa) (2.4.7)\n",
      "Building wheels for collected packages: librosa, audioread, resampy\n",
      "  Building wheel for librosa (setup.py) ... \u001b[?25ldone\n",
      "\u001b[?25h  Created wheel for librosa: filename=librosa-0.8.0-py3-none-any.whl size=201374 sha256=7e108a0e0ec20a466c1f08d51e78bb470756af12af23842ad11bb49f00d668d8\n",
      "  Stored in directory: /home/yunwanx/.cache/pip/wheels/c6/08/26/9d7dec1c2dc863d8f1fdc1ac39883e2601dc6fa63fcd68183f\n",
      "  Building wheel for audioread (setup.py) ... \u001b[?25ldone\n",
      "\u001b[?25h  Created wheel for audioread: filename=audioread-2.1.9-py3-none-any.whl size=23142 sha256=dcae8e6cbf6636daf11cd44bafb5638aed05daed79f0fbe04ca5c5e4f86f1caa\n",
      "  Stored in directory: /home/yunwanx/.cache/pip/wheels/71/76/34/82f346dbd557abb79d415dd4c55281db62cca581ceb1099e0f\n",
      "  Building wheel for resampy (setup.py) ... \u001b[?25ldone\n",
      "\u001b[?25h  Created wheel for resampy: filename=resampy-0.2.2-py3-none-any.whl size=320720 sha256=bacea4af67d34413b365bb28ff8aa1e0a1c9b2fcb087d01002674fa878a0a0f5\n",
      "  Stored in directory: /home/yunwanx/.cache/pip/wheels/ad/c3/72/f5733d5e4abc9a637c9f6834a1a29429b4cd57b30a4585f91a\n",
      "Successfully built librosa audioread resampy\n",
      "Installing collected packages: audioread, llvmlite, numba, resampy, soundfile, appdirs, pooch, librosa\n",
      "Successfully installed appdirs-1.4.4 audioread-2.1.9 librosa-0.8.0 llvmlite-0.36.0 numba-0.53.1 pooch-1.3.0 resampy-0.2.2 soundfile-0.10.3.post1\n",
      "Note: you may need to restart the kernel to use updated packages.\n"
     ]
    }
   ],
   "source": [
    "pip install librosa "
   ]
  },
  {
   "cell_type": "code",
   "execution_count": 8,
   "metadata": {},
   "outputs": [],
   "source": [
    "import os\n",
    "import librosa\n",
    "import librosa.display\n",
    "import glob"
   ]
  },
  {
   "cell_type": "code",
   "execution_count": 9,
   "metadata": {},
   "outputs": [],
   "source": [
    "\n",
    "feature = []\n",
    "label = []\n",
    "# 建立类别标签，不同类别对应不同的数字。\n",
    "label_dict = {'aloe': 0, 'burger': 1, 'cabbage': 2,'candied_fruits':3, 'carrots': 4, 'chips':5,\n",
    "                  'chocolate': 6, 'drinks': 7, 'fries': 8, 'grapes': 9, 'gummies': 10, 'ice-cream':11,\n",
    "                  'jelly': 12, 'noodles': 13, 'pickles': 14, 'pizza': 15, 'ribs': 16, 'salmon':17,\n",
    "                  'soup': 18, 'wings': 19}\n",
    "label_dict_inv = {v:k for k,v in label_dict.items()}"
   ]
  },
  {
   "cell_type": "code",
   "execution_count": 10,
   "metadata": {},
   "outputs": [],
   "source": [
    "from tqdm import tqdm\n",
    "def extract_features(parent_dir, sub_dirs, max_file=10, file_ext=\"*.wav\"):\n",
    "    c = 0\n",
    "    label, feature = [], []\n",
    "    for sub_dir in sub_dirs:\n",
    "        for fn in tqdm(glob.glob(os.path.join(parent_dir, sub_dir, file_ext))[:max_file]): # 遍历数据集的所有文件\n",
    "            \n",
    "           # segment_log_specgrams, segment_labels = [], []\n",
    "            #sound_clip,sr = librosa.load(fn)\n",
    "            #print(fn)\n",
    "            label_name = fn.split('/')[-2]\n",
    "            label.extend([label_dict[label_name]])\n",
    "            X, sample_rate = librosa.load(fn,res_type='kaiser_fast')\n",
    "            mels = np.mean(librosa.feature.melspectrogram(y=X,sr=sample_rate).T,axis=0) # 计算梅尔频谱(mel spectrogram),并把它作为特征\n",
    "            feature.extend([mels])\n",
    "            \n",
    "    return [feature, label]"
   ]
  },
  {
   "cell_type": "code",
   "execution_count": 16,
   "metadata": {},
   "outputs": [
    {
     "name": "stderr",
     "output_type": "stream",
     "text": [
      "100%|██████████| 45/45 [00:03<00:00, 13.51it/s]\n",
      "100%|██████████| 64/64 [00:04<00:00, 15.22it/s]\n",
      "100%|██████████| 48/48 [00:05<00:00,  8.31it/s]\n",
      "100%|██████████| 74/74 [00:11<00:00,  6.50it/s]\n",
      "100%|██████████| 49/49 [00:07<00:00,  6.65it/s]\n",
      "100%|██████████| 57/57 [00:08<00:00,  6.42it/s]\n",
      "100%|██████████| 27/27 [00:03<00:00,  7.46it/s]\n",
      "100%|██████████| 27/27 [00:03<00:00,  7.91it/s]\n",
      "100%|██████████| 57/57 [00:06<00:00,  8.61it/s]\n",
      "100%|██████████| 61/61 [00:05<00:00, 11.10it/s]\n",
      "100%|██████████| 65/65 [00:06<00:00,  9.53it/s]\n",
      "100%|██████████| 69/69 [00:07<00:00,  9.49it/s]\n",
      "100%|██████████| 43/43 [00:04<00:00, 10.53it/s]\n",
      "100%|██████████| 33/33 [00:02<00:00, 12.18it/s]\n",
      "100%|██████████| 75/75 [00:09<00:00,  8.09it/s]\n",
      "100%|██████████| 55/55 [00:10<00:00,  5.45it/s]\n",
      "100%|██████████| 47/47 [00:07<00:00,  6.20it/s]\n",
      "100%|██████████| 37/37 [00:06<00:00,  5.88it/s]\n",
      "100%|██████████| 32/32 [00:03<00:00, 10.07it/s]\n",
      "100%|██████████| 35/35 [00:05<00:00,  6.06it/s]\n"
     ]
    }
   ],
   "source": [
    "\n",
    "# 自己更改目录\n",
    "parent_dir = '../data/train_sample/'\n",
    "save_dir = \"../output/\"\n",
    "folds = sub_dirs = np.array(['aloe','burger','cabbage','candied_fruits',\n",
    "                             'carrots','chips','chocolate','drinks','fries',\n",
    "                            'grapes','gummies','ice-cream','jelly','noodles','pickles',\n",
    "                            'pizza','ribs','salmon','soup','wings'])\n",
    "\n",
    "# 获取特征feature以及类别的label\n",
    "temp = extract_features(parent_dir,sub_dirs,max_file=100)"
   ]
  },
  {
   "cell_type": "code",
   "execution_count": 17,
   "metadata": {},
   "outputs": [],
   "source": [
    "temp = np.array(temp)\n",
    "data = temp.transpose()"
   ]
  },
  {
   "cell_type": "code",
   "execution_count": 19,
   "metadata": {},
   "outputs": [
    {
     "name": "stdout",
     "output_type": "stream",
     "text": [
      "X的特征尺寸是： (1000, 128)\n",
      "Y的特征尺寸是： (1000,)\n"
     ]
    }
   ],
   "source": [
    "\n",
    "# 获取特征\n",
    "X = np.vstack(data[:, 0])\n",
    "\n",
    "# 获取标签\n",
    "Y = np.array(data[:, 1])\n",
    "print('X的特征尺寸是：',X.shape)\n",
    "print('Y的特征尺寸是：',Y.shape)"
   ]
  },
  {
   "cell_type": "code",
   "execution_count": 20,
   "metadata": {},
   "outputs": [],
   "source": [
    "\n",
    "# 在Keras库中：to_categorical就是将类别向量转换为二进制（只有0和1）的矩阵类型表示\n",
    "Y = to_categorical(Y)"
   ]
  },
  {
   "cell_type": "code",
   "execution_count": 21,
   "metadata": {},
   "outputs": [
    {
     "name": "stdout",
     "output_type": "stream",
     "text": [
      "(1000, 128)\n",
      "(1000, 20)\n"
     ]
    }
   ],
   "source": [
    "'''最终数据'''\n",
    "print(X.shape)\n",
    "print(Y.shape)"
   ]
  },
  {
   "cell_type": "code",
   "execution_count": 22,
   "metadata": {},
   "outputs": [
    {
     "name": "stdout",
     "output_type": "stream",
     "text": [
      "训练集的大小 750\n",
      "测试集的大小 250\n"
     ]
    }
   ],
   "source": [
    "\n",
    "X_train, X_test, Y_train, Y_test = train_test_split(X, Y, random_state = 1, stratify=Y)\n",
    "print('训练集的大小',len(X_train))\n",
    "print('测试集的大小',len(X_test))"
   ]
  },
  {
   "cell_type": "code",
   "execution_count": 23,
   "metadata": {},
   "outputs": [],
   "source": [
    "X_train = X_train.reshape(-1, 16, 8, 1)\n",
    "X_test = X_test.reshape(-1, 16, 8, 1)"
   ]
  },
  {
   "cell_type": "markdown",
   "metadata": {},
   "source": [
    "# cnn"
   ]
  },
  {
   "cell_type": "code",
   "execution_count": 25,
   "metadata": {},
   "outputs": [],
   "source": [
    "\n",
    "model = Sequential()\n",
    "# 输入的大小\n",
    "input_dim = (16, 8, 1)\n",
    "\n",
    "model.add(Conv2D(64, (3, 3), padding = \"same\", activation = \"tanh\", input_shape = input_dim))# 卷积层\n",
    "model.add(MaxPool2D(pool_size=(2, 2)))# 最大池化\n",
    "model.add(Conv2D(128, (3, 3), padding = \"same\", activation = \"tanh\")) #卷积层\n",
    "model.add(MaxPool2D(pool_size=(2, 2))) # 最大池化层\n",
    "model.add(Dropout(0.1))\n",
    "model.add(Flatten()) # 展开\n",
    "model.add(Dense(1024, activation = \"tanh\"))\n",
    "model.add(Dense(20, activation = \"softmax\")) # 输出层：20个units输出20个类的概率\n",
    "\n",
    "# 编译模型，设置损失函数，优化方法以及评价标准\n",
    "model.compile(optimizer = 'adam', loss = 'categorical_crossentropy', metrics = ['accuracy'])"
   ]
  },
  {
   "cell_type": "code",
   "execution_count": 26,
   "metadata": {},
   "outputs": [
    {
     "name": "stdout",
     "output_type": "stream",
     "text": [
      "Model: \"sequential\"\n",
      "_________________________________________________________________\n",
      "Layer (type)                 Output Shape              Param #   \n",
      "=================================================================\n",
      "conv2d (Conv2D)              (None, 16, 8, 64)         640       \n",
      "_________________________________________________________________\n",
      "max_pooling2d (MaxPooling2D) (None, 8, 4, 64)          0         \n",
      "_________________________________________________________________\n",
      "conv2d_1 (Conv2D)            (None, 8, 4, 128)         73856     \n",
      "_________________________________________________________________\n",
      "max_pooling2d_1 (MaxPooling2 (None, 4, 2, 128)         0         \n",
      "_________________________________________________________________\n",
      "dropout (Dropout)            (None, 4, 2, 128)         0         \n",
      "_________________________________________________________________\n",
      "flatten (Flatten)            (None, 1024)              0         \n",
      "_________________________________________________________________\n",
      "dense (Dense)                (None, 1024)              1049600   \n",
      "_________________________________________________________________\n",
      "dense_1 (Dense)              (None, 20)                20500     \n",
      "=================================================================\n",
      "Total params: 1,144,596\n",
      "Trainable params: 1,144,596\n",
      "Non-trainable params: 0\n",
      "_________________________________________________________________\n"
     ]
    }
   ],
   "source": [
    "\n",
    "model.summary()"
   ]
  },
  {
   "cell_type": "code",
   "execution_count": 27,
   "metadata": {},
   "outputs": [
    {
     "name": "stdout",
     "output_type": "stream",
     "text": [
      "Epoch 1/20\n",
      "50/50 [==============================] - 1s 28ms/step - loss: 2.8570 - accuracy: 0.1347 - val_loss: 2.6924 - val_accuracy: 0.1720\n",
      "Epoch 2/20\n",
      "50/50 [==============================] - 1s 23ms/step - loss: 2.5330 - accuracy: 0.2227 - val_loss: 2.5536 - val_accuracy: 0.2320\n",
      "Epoch 3/20\n",
      "50/50 [==============================] - 1s 24ms/step - loss: 2.3009 - accuracy: 0.2853 - val_loss: 2.4513 - val_accuracy: 0.2720\n",
      "Epoch 4/20\n",
      "50/50 [==============================] - 1s 26ms/step - loss: 2.0408 - accuracy: 0.3880 - val_loss: 2.3825 - val_accuracy: 0.2800\n",
      "Epoch 5/20\n",
      "50/50 [==============================] - 1s 23ms/step - loss: 1.8835 - accuracy: 0.4173 - val_loss: 2.4142 - val_accuracy: 0.3200\n",
      "Epoch 6/20\n",
      "50/50 [==============================] - 1s 25ms/step - loss: 1.7646 - accuracy: 0.4600 - val_loss: 2.3060 - val_accuracy: 0.3520\n",
      "Epoch 7/20\n",
      "50/50 [==============================] - 1s 24ms/step - loss: 1.5560 - accuracy: 0.5320 - val_loss: 2.5004 - val_accuracy: 0.3040\n",
      "Epoch 8/20\n",
      "50/50 [==============================] - 1s 22ms/step - loss: 1.4337 - accuracy: 0.5653 - val_loss: 2.5959 - val_accuracy: 0.3040\n",
      "Epoch 9/20\n",
      "50/50 [==============================] - 1s 24ms/step - loss: 1.3668 - accuracy: 0.5747 - val_loss: 2.5882 - val_accuracy: 0.3000\n",
      "Epoch 10/20\n",
      "50/50 [==============================] - 1s 23ms/step - loss: 1.1940 - accuracy: 0.6427 - val_loss: 2.7142 - val_accuracy: 0.2960\n",
      "Epoch 11/20\n",
      "50/50 [==============================] - 1s 24ms/step - loss: 1.0163 - accuracy: 0.6853 - val_loss: 2.6974 - val_accuracy: 0.3440\n",
      "Epoch 12/20\n",
      "50/50 [==============================] - 1s 25ms/step - loss: 0.8925 - accuracy: 0.7267 - val_loss: 2.9238 - val_accuracy: 0.3560\n",
      "Epoch 13/20\n",
      "50/50 [==============================] - 1s 25ms/step - loss: 0.8434 - accuracy: 0.7667 - val_loss: 3.1205 - val_accuracy: 0.3200\n",
      "Epoch 14/20\n",
      "50/50 [==============================] - 1s 23ms/step - loss: 0.7220 - accuracy: 0.7800 - val_loss: 3.1383 - val_accuracy: 0.3600\n",
      "Epoch 15/20\n",
      "50/50 [==============================] - 1s 23ms/step - loss: 0.6682 - accuracy: 0.8013 - val_loss: 3.2880 - val_accuracy: 0.3440\n",
      "Epoch 16/20\n",
      "50/50 [==============================] - 1s 24ms/step - loss: 0.6882 - accuracy: 0.8147 - val_loss: 3.4137 - val_accuracy: 0.3760\n",
      "Epoch 17/20\n",
      "50/50 [==============================] - 1s 23ms/step - loss: 0.5791 - accuracy: 0.8280 - val_loss: 3.6376 - val_accuracy: 0.3640\n",
      "Epoch 18/20\n",
      "50/50 [==============================] - 1s 23ms/step - loss: 0.4963 - accuracy: 0.8467 - val_loss: 3.7149 - val_accuracy: 0.3720\n",
      "Epoch 19/20\n",
      "50/50 [==============================] - 1s 24ms/step - loss: 0.4704 - accuracy: 0.8587 - val_loss: 3.7114 - val_accuracy: 0.3840\n",
      "Epoch 20/20\n",
      "50/50 [==============================] - 1s 26ms/step - loss: 0.4585 - accuracy: 0.8627 - val_loss: 4.0506 - val_accuracy: 0.3680\n",
      "CPU times: user 1min 11s, sys: 26.1 s, total: 1min 37s\n",
      "Wall time: 25.9 s\n"
     ]
    },
    {
     "data": {
      "text/plain": [
       "<tensorflow.python.keras.callbacks.History at 0x7f0e0c674290>"
      ]
     },
     "execution_count": 27,
     "metadata": {},
     "output_type": "execute_result"
    }
   ],
   "source": [
    "%%time\n",
    "# 训练模型\n",
    "model.fit(X_train, Y_train, epochs = 20, batch_size = 15, validation_data = (X_test, Y_test))"
   ]
  },
  {
   "cell_type": "markdown",
   "metadata": {},
   "source": [
    "# performance on test set"
   ]
  },
  {
   "cell_type": "code",
   "execution_count": 28,
   "metadata": {},
   "outputs": [],
   "source": [
    "\n",
    "def extract_features(test_dir, file_ext=\"*.wav\"):\n",
    "    feature = []\n",
    "    for fn in tqdm(glob.glob(os.path.join(test_dir, file_ext))[:]): # 遍历数据集的所有文件\n",
    "        X, sample_rate = librosa.load(fn,res_type='kaiser_fast')\n",
    "        mels = np.mean(librosa.feature.melspectrogram(y=X,sr=sample_rate).T,axis=0) # 计算梅尔频谱(mel spectrogram),并把它作为特征\n",
    "        feature.extend([mels])\n",
    "    return feature"
   ]
  },
  {
   "cell_type": "code",
   "execution_count": 29,
   "metadata": {},
   "outputs": [
    {
     "name": "stderr",
     "output_type": "stream",
     "text": [
      "100%|██████████| 2000/2000 [04:10<00:00,  8.00it/s]\n"
     ]
    }
   ],
   "source": [
    "X_test = extract_features('../data/test_a/')"
   ]
  },
  {
   "cell_type": "code",
   "execution_count": 31,
   "metadata": {},
   "outputs": [
    {
     "data": {
      "text/plain": [
       "array([[2.9598351e-03, 2.7406486e-03, 1.3819024e-03, ..., 4.6215209e-08,\n",
       "        8.6533296e-09, 9.4653851e-10],\n",
       "       [9.6117635e-04, 2.8952870e-03, 6.2826923e-03, ..., 3.5951460e-05,\n",
       "        6.7042702e-06, 8.8306325e-07],\n",
       "       [1.3216470e-02, 4.3380085e-02, 8.9629956e-02, ..., 2.9015726e-05,\n",
       "        2.4174481e-06, 2.9420892e-07],\n",
       "       ...,\n",
       "       [3.8925678e-02, 2.7496809e-01, 2.9786795e-01, ..., 1.3696851e-04,\n",
       "        3.6786754e-05, 3.8811245e-06],\n",
       "       [2.0119630e-01, 3.0227860e-02, 1.2986433e-03, ..., 1.4483050e-05,\n",
       "        3.6184322e-06, 3.9628182e-07],\n",
       "       [2.4599414e+00, 1.5796322e+00, 1.3016220e+00, ..., 1.4945977e-05,\n",
       "        2.7943854e-06, 2.9968697e-07]], dtype=float32)"
      ]
     },
     "execution_count": 31,
     "metadata": {},
     "output_type": "execute_result"
    }
   ],
   "source": [
    "X_test"
   ]
  },
  {
   "cell_type": "code",
   "execution_count": 30,
   "metadata": {},
   "outputs": [],
   "source": [
    "X_test = np.vstack(X_test)\n",
    "predictions = model.predict(X_test.reshape(-1, 16, 8, 1))"
   ]
  }
 ],
 "metadata": {
  "kernelspec": {
   "display_name": "Python 3",
   "language": "python",
   "name": "python3"
  },
  "language_info": {
   "codemirror_mode": {
    "name": "ipython",
    "version": 3
   },
   "file_extension": ".py",
   "mimetype": "text/x-python",
   "name": "python",
   "nbconvert_exporter": "python",
   "pygments_lexer": "ipython3",
   "version": "3.7.6"
  }
 },
 "nbformat": 4,
 "nbformat_minor": 4
}
