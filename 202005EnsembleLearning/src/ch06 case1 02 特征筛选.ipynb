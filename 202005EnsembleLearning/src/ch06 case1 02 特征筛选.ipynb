{
 "cells": [
  {
   "cell_type": "markdown",
   "id": "6309384b-5ea8-4028-8e27-5621c4254ee2",
   "metadata": {},
   "source": [
    "# import data\n"
   ]
  },
  {
   "cell_type": "code",
   "execution_count": 28,
   "id": "b541c9cc-14d4-40d1-b150-1a61494c9f9e",
   "metadata": {},
   "outputs": [
    {
     "name": "stdout",
     "output_type": "stream",
     "text": [
      "(8000, 42)\n",
      "(2968, 41)\n"
     ]
    },
    {
     "data": {
      "text/html": [
       "<div>\n",
       "<style scoped>\n",
       "    .dataframe tbody tr th:only-of-type {\n",
       "        vertical-align: middle;\n",
       "    }\n",
       "\n",
       "    .dataframe tbody tr th {\n",
       "        vertical-align: top;\n",
       "    }\n",
       "\n",
       "    .dataframe thead th {\n",
       "        text-align: right;\n",
       "    }\n",
       "</style>\n",
       "<table border=\"1\" class=\"dataframe\">\n",
       "  <thead>\n",
       "    <tr style=\"text-align: right;\">\n",
       "      <th></th>\n",
       "      <th>id</th>\n",
       "      <th>happiness</th>\n",
       "      <th>survey_type</th>\n",
       "      <th>province</th>\n",
       "      <th>city</th>\n",
       "      <th>county</th>\n",
       "      <th>survey_time</th>\n",
       "      <th>gender</th>\n",
       "      <th>birth</th>\n",
       "      <th>nationality</th>\n",
       "      <th>...</th>\n",
       "      <th>family_income</th>\n",
       "      <th>family_m</th>\n",
       "      <th>family_status</th>\n",
       "      <th>house</th>\n",
       "      <th>car</th>\n",
       "      <th>marital</th>\n",
       "      <th>status_peer</th>\n",
       "      <th>status_3_before</th>\n",
       "      <th>view</th>\n",
       "      <th>inc_ability</th>\n",
       "    </tr>\n",
       "  </thead>\n",
       "  <tbody>\n",
       "    <tr>\n",
       "      <th>0</th>\n",
       "      <td>1</td>\n",
       "      <td>4</td>\n",
       "      <td>1</td>\n",
       "      <td>12</td>\n",
       "      <td>32</td>\n",
       "      <td>59</td>\n",
       "      <td>2015/8/4 14:18</td>\n",
       "      <td>1</td>\n",
       "      <td>1959</td>\n",
       "      <td>1</td>\n",
       "      <td>...</td>\n",
       "      <td>60000.0</td>\n",
       "      <td>2</td>\n",
       "      <td>2</td>\n",
       "      <td>1</td>\n",
       "      <td>2</td>\n",
       "      <td>3</td>\n",
       "      <td>3</td>\n",
       "      <td>2</td>\n",
       "      <td>4</td>\n",
       "      <td>3</td>\n",
       "    </tr>\n",
       "    <tr>\n",
       "      <th>1</th>\n",
       "      <td>2</td>\n",
       "      <td>4</td>\n",
       "      <td>2</td>\n",
       "      <td>18</td>\n",
       "      <td>52</td>\n",
       "      <td>85</td>\n",
       "      <td>2015/7/21 15:04</td>\n",
       "      <td>1</td>\n",
       "      <td>1992</td>\n",
       "      <td>1</td>\n",
       "      <td>...</td>\n",
       "      <td>40000.0</td>\n",
       "      <td>3</td>\n",
       "      <td>4</td>\n",
       "      <td>1</td>\n",
       "      <td>2</td>\n",
       "      <td>1</td>\n",
       "      <td>1</td>\n",
       "      <td>1</td>\n",
       "      <td>4</td>\n",
       "      <td>2</td>\n",
       "    </tr>\n",
       "    <tr>\n",
       "      <th>2</th>\n",
       "      <td>3</td>\n",
       "      <td>4</td>\n",
       "      <td>2</td>\n",
       "      <td>29</td>\n",
       "      <td>83</td>\n",
       "      <td>126</td>\n",
       "      <td>2015/7/21 13:24</td>\n",
       "      <td>2</td>\n",
       "      <td>1967</td>\n",
       "      <td>1</td>\n",
       "      <td>...</td>\n",
       "      <td>8000.0</td>\n",
       "      <td>3</td>\n",
       "      <td>3</td>\n",
       "      <td>1</td>\n",
       "      <td>2</td>\n",
       "      <td>3</td>\n",
       "      <td>2</td>\n",
       "      <td>1</td>\n",
       "      <td>4</td>\n",
       "      <td>2</td>\n",
       "    </tr>\n",
       "    <tr>\n",
       "      <th>3</th>\n",
       "      <td>4</td>\n",
       "      <td>5</td>\n",
       "      <td>2</td>\n",
       "      <td>10</td>\n",
       "      <td>28</td>\n",
       "      <td>51</td>\n",
       "      <td>2015/7/25 17:33</td>\n",
       "      <td>2</td>\n",
       "      <td>1943</td>\n",
       "      <td>1</td>\n",
       "      <td>...</td>\n",
       "      <td>12000.0</td>\n",
       "      <td>3</td>\n",
       "      <td>3</td>\n",
       "      <td>1</td>\n",
       "      <td>1</td>\n",
       "      <td>7</td>\n",
       "      <td>2</td>\n",
       "      <td>1</td>\n",
       "      <td>3</td>\n",
       "      <td>2</td>\n",
       "    </tr>\n",
       "    <tr>\n",
       "      <th>4</th>\n",
       "      <td>5</td>\n",
       "      <td>4</td>\n",
       "      <td>1</td>\n",
       "      <td>7</td>\n",
       "      <td>18</td>\n",
       "      <td>36</td>\n",
       "      <td>2015/8/10 9:50</td>\n",
       "      <td>2</td>\n",
       "      <td>1994</td>\n",
       "      <td>1</td>\n",
       "      <td>...</td>\n",
       "      <td>-2.0</td>\n",
       "      <td>4</td>\n",
       "      <td>3</td>\n",
       "      <td>1</td>\n",
       "      <td>1</td>\n",
       "      <td>1</td>\n",
       "      <td>3</td>\n",
       "      <td>2</td>\n",
       "      <td>3</td>\n",
       "      <td>-8</td>\n",
       "    </tr>\n",
       "  </tbody>\n",
       "</table>\n",
       "<p>5 rows × 42 columns</p>\n",
       "</div>"
      ],
      "text/plain": [
       "   id  happiness  survey_type  province  city  county      survey_time  \\\n",
       "0   1          4            1        12    32      59   2015/8/4 14:18   \n",
       "1   2          4            2        18    52      85  2015/7/21 15:04   \n",
       "2   3          4            2        29    83     126  2015/7/21 13:24   \n",
       "3   4          5            2        10    28      51  2015/7/25 17:33   \n",
       "4   5          4            1         7    18      36   2015/8/10 9:50   \n",
       "\n",
       "   gender  birth  nationality  ...  family_income  family_m  family_status  \\\n",
       "0       1   1959            1  ...        60000.0         2              2   \n",
       "1       1   1992            1  ...        40000.0         3              4   \n",
       "2       2   1967            1  ...         8000.0         3              3   \n",
       "3       2   1943            1  ...        12000.0         3              3   \n",
       "4       2   1994            1  ...           -2.0         4              3   \n",
       "\n",
       "   house  car  marital  status_peer  status_3_before  view  inc_ability  \n",
       "0      1    2        3            3                2     4            3  \n",
       "1      1    2        1            1                1     4            2  \n",
       "2      1    2        3            2                1     4            2  \n",
       "3      1    1        7            2                1     3            2  \n",
       "4      1    1        1            3                2     3           -8  \n",
       "\n",
       "[5 rows x 42 columns]"
      ]
     },
     "execution_count": 28,
     "metadata": {},
     "output_type": "execute_result"
    }
   ],
   "source": [
    "import pandas as pd\n",
    "import numpy as np\n",
    "import matplotlib\n",
    "import matplotlib.pyplot as plt\n",
    "import seaborn as sns\n",
    "from operator import itemgetter\n",
    "\n",
    "\n",
    "\n",
    "%matplotlib inline\n",
    "train = pd.read_csv('../data/happiness_train_abbr.csv', sep=',')\n",
    "test = pd.read_csv('../data/happiness_test_abbr.csv', sep=',')\n",
    "print(train.shape)\n",
    "print(test.shape)\n",
    "\n",
    "\n",
    "(150000, 30)\n",
    "(50000, 30)\n",
    "train.head()"
   ]
  },
  {
   "cell_type": "markdown",
   "id": "1e7a6f9a-3a1b-4c59-9355-3b11339536d5",
   "metadata": {},
   "source": [
    "# 删除异常值"
   ]
  },
  {
   "cell_type": "code",
   "execution_count": 29,
   "id": "4276a01b-0ebe-42a2-8f82-1c4c765a47a2",
   "metadata": {},
   "outputs": [
    {
     "data": {
      "text/plain": [
       "<seaborn.axisgrid.FacetGrid at 0x172b2e8b0>"
      ]
     },
     "execution_count": 29,
     "metadata": {},
     "output_type": "execute_result"
    },
    {
     "data": {
      "image/png": "[encoded data removed]",
      "text/plain": [
       "<Figure size 360x360 with 1 Axes>"
      ]
     },
     "metadata": {
      "needs_background": "light"
     },
     "output_type": "display_data"
    },
    {
     "data": {
      "image/png": "[encoded data removed]",
      "text/plain": [
       "<Figure size 360x360 with 1 Axes>"
      ]
     },
     "metadata": {
      "needs_background": "light"
     },
     "output_type": "display_data"
    }
   ],
   "source": [
    "#fig, ax = plt.subplots(1, 2, figsize=(10, 7))\n",
    "sns.displot(data=train,x='happiness')\n",
    "train = train[train['happiness']>=0]\n",
    "sns.displot(data=train,x='happiness')"
   ]
  },
  {
   "cell_type": "markdown",
   "id": "7641e280-3bb1-4d83-a406-2f30d1eb13d6",
   "metadata": {},
   "source": [
    "# 特征构造"
   ]
  },
  {
   "cell_type": "code",
   "execution_count": 30,
   "id": "7503d19c-a523-4acd-841d-d1927c1c9264",
   "metadata": {},
   "outputs": [],
   "source": [
    "# 训练集和测试集放在一起，方便构造特征\n",
    "train['train']=1\n",
    "test['train']=0\n",
    "data = pd.concat([train, test], ignore_index=True, sort=False)\n"
   ]
  },
  {
   "cell_type": "code",
   "execution_count": 58,
   "id": "7977e61b-8120-41d3-a6de-229695c89394",
   "metadata": {},
   "outputs": [
    {
     "data": {
      "text/plain": [
       "Index(['id', 'happiness', 'survey_type', 'province', 'city', 'county',\n",
       "       'survey_time', 'gender', 'birth', 'nationality', 'religion',\n",
       "       'religion_freq', 'edu', 'income', 'political', 'floor_area',\n",
       "       'height_cm', 'weight_jin', 'health', 'health_problem', 'depression',\n",
       "       'hukou', 'socialize', 'relax', 'learn', 'equity', 'class', 'work_exper',\n",
       "       'work_status', 'work_yr', 'work_type', 'work_manage', 'family_income',\n",
       "       'family_m', 'family_status', 'house', 'car', 'marital', 'status_peer',\n",
       "       'status_3_before', 'view', 'inc_ability', 'train'],\n",
       "      dtype='object')"
      ]
     },
     "execution_count": 58,
     "metadata": {},
     "output_type": "execute_result"
    }
   ],
   "source": [
    "data.columns"
   ]
  },
  {
   "cell_type": "code",
   "execution_count": 59,
   "id": "4f7ac356-0ad8-489a-9254-953ab286e884",
   "metadata": {},
   "outputs": [],
   "source": [
    "data['survey_time'] = pd.to_datetime(data['survey_time'],format=\"%Y/%m/%d\")"
   ]
  },
  {
   "cell_type": "code",
   "execution_count": 57,
   "id": "0214c0d5-05ef-47f6-9860-3e2eddc1f4b8",
   "metadata": {},
   "outputs": [
    {
     "data": {
      "text/plain": [
       "<pandas.core.indexes.accessors.DatetimeProperties object at 0x17468da90>"
      ]
     },
     "execution_count": 57,
     "metadata": {},
     "output_type": "execute_result"
    }
   ],
   "source": [
    "data = data.drop(['creatDate', 'regDate', 'regionCode'], axis=1)\n"
   ]
  },
  {
   "cell_type": "code",
   "execution_count": null,
   "id": "62afb752-ff05-4026-a062-acd555b18e8a",
   "metadata": {},
   "outputs": [],
   "source": []
  }
 ],
 "metadata": {
  "kernelspec": {
   "display_name": "Python 3",
   "language": "python",
   "name": "python3"
  },
  "language_info": {
   "codemirror_mode": {
    "name": "ipython",
    "version": 3
   },
   "file_extension": ".py",
   "mimetype": "text/x-python",
   "name": "python",
   "nbconvert_exporter": "python",
   "pygments_lexer": "ipython3",
   "version": "3.8.10"
  }
 },
 "nbformat": 4,
 "nbformat_minor": 5
}
